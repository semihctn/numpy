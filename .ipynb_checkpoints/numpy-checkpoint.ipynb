{
 "cells": [
  {
   "cell_type": "markdown",
   "id": "f595bde6-bdca-4271-9fdc-7d70eaebeebf",
   "metadata": {},
   "source": [
    "# Numpy"
   ]
  },
  {
   "cell_type": "code",
   "execution_count": 21,
   "id": "8690bd32-7cb4-453f-962c-3e6f556a03bc",
   "metadata": {},
   "outputs": [],
   "source": [
    "import numpy as np "
   ]
  },
  {
   "cell_type": "markdown",
   "id": "245dcfc5-3142-43aa-bc1c-00be3ef73c02",
   "metadata": {},
   "source": [
    "**_numpy_** kütüphanesini np kısaltması ile çağırıyoruz"
   ]
  },
  {
   "cell_type": "markdown",
   "id": "b42d752f-5aaf-4828-9074-832ecf00802b",
   "metadata": {},
   "source": [
    "## liste yöntemi ile oluşturma "
   ]
  },
  {
   "cell_type": "code",
   "execution_count": 6,
   "id": "b5023fb1-0d70-4bc2-bfac-4d337f7ffde2",
   "metadata": {},
   "outputs": [],
   "source": [
    "a=np.array([1,2,3,4])\n",
    "b=np.array([2,3,4,5])"
   ]
  },
  {
   "cell_type": "code",
   "execution_count": 8,
   "id": "1c1fcd64-5ea3-445d-9275-e0525281cdbd",
   "metadata": {},
   "outputs": [
    {
     "data": {
      "text/plain": [
       "array([ 2,  6, 12, 20])"
      ]
     },
     "execution_count": 8,
     "metadata": {},
     "output_type": "execute_result"
    }
   ],
   "source": [
    "a*b"
   ]
  },
  {
   "cell_type": "code",
   "execution_count": 11,
   "id": "63c1453c-7ccd-43af-91ff-b73a0f39cb78",
   "metadata": {},
   "outputs": [
    {
     "data": {
      "text/plain": [
       "numpy.ndarray"
      ]
     },
     "execution_count": 11,
     "metadata": {},
     "output_type": "execute_result"
    }
   ],
   "source": [
    "type(a)"
   ]
  },
  {
   "cell_type": "code",
   "execution_count": 15,
   "id": "fbd90956-711d-41a5-861c-7bfd777365b1",
   "metadata": {},
   "outputs": [
    {
     "data": {
      "text/plain": [
       "array([ 3.14,  4.  ,  3.  , 12.2 ])"
      ]
     },
     "execution_count": 15,
     "metadata": {},
     "output_type": "execute_result"
    }
   ],
   "source": [
    "c= np.array([3.14,4,3,12.2])\n",
    "c"
   ]
  },
  {
   "cell_type": "markdown",
   "id": "a5a2ee97-2490-4ab5-a4b8-5beec1259d3b",
   "metadata": {},
   "source": [
    "numpy tek tip olarak çalışır eğer listenin içine float girersen diğer integerları da float yapar eğer floatları integer yapmak istiyorsak aşağıdaki gibi data tipini belirtmemiz gerekir"
   ]
  },
  {
   "cell_type": "code",
   "execution_count": 20,
   "id": "cf233af0-3a69-4d6b-bacb-e3ba2a63fba6",
   "metadata": {},
   "outputs": [
    {
     "data": {
      "text/plain": [
       "array([ 3,  4,  3, 12])"
      ]
     },
     "execution_count": 20,
     "metadata": {},
     "output_type": "execute_result"
    }
   ],
   "source": [
    "d=np.array([3.14,4,3,12.2], dtype = \"int\")\n",
    "d"
   ]
  },
  {
   "cell_type": "markdown",
   "id": "917e8024-3452-4904-8cc9-347937f0007c",
   "metadata": {},
   "source": [
    "## Sıfırdan array oluşturma"
   ]
  },
  {
   "cell_type": "code",
   "execution_count": 25,
   "id": "45246167-12e9-4c20-8096-8a2118626bc2",
   "metadata": {},
   "outputs": [
    {
     "data": {
      "text/plain": [
       "array([0, 0, 0, 0, 0, 0, 0, 0, 0, 0])"
      ]
     },
     "execution_count": 25,
     "metadata": {},
     "output_type": "execute_result"
    }
   ],
   "source": [
    "e= np.zeros(10, dtype=\"int\")\n",
    "e"
   ]
  },
  {
   "cell_type": "code",
   "execution_count": 31,
   "id": "0d171430-8089-4621-9163-db2f8c0e4c8b",
   "metadata": {},
   "outputs": [
    {
     "data": {
      "text/plain": [
       "array([[1, 1, 1, 1, 1],\n",
       "       [1, 1, 1, 1, 1],\n",
       "       [1, 1, 1, 1, 1]])"
      ]
     },
     "execution_count": 31,
     "metadata": {},
     "output_type": "execute_result"
    }
   ],
   "source": [
    "f= np.ones((3,5), dtype=\"int\")\n",
    "f"
   ]
  },
  {
   "cell_type": "code",
   "execution_count": 33,
   "id": "f30f3a98-1c51-44d7-9219-65528679232f",
   "metadata": {},
   "outputs": [
    {
     "data": {
      "text/plain": [
       "array([[5, 5, 5, 5, 5],\n",
       "       [5, 5, 5, 5, 5],\n",
       "       [5, 5, 5, 5, 5]])"
      ]
     },
     "execution_count": 33,
     "metadata": {},
     "output_type": "execute_result"
    }
   ],
   "source": [
    "g=np.full((3,5),5)\n",
    "g"
   ]
  },
  {
   "cell_type": "code",
   "execution_count": 39,
   "id": "086f30a0-8f83-4d94-aafe-2c0613b9af3e",
   "metadata": {},
   "outputs": [
    {
     "data": {
      "text/plain": [
       "array([ 0,  2,  4,  6,  8, 10, 12, 14, 16, 18, 20])"
      ]
     },
     "execution_count": 39,
     "metadata": {},
     "output_type": "execute_result"
    }
   ],
   "source": [
    "h=np.arange(0,21,2)\n",
    "h"
   ]
  },
  {
   "cell_type": "markdown",
   "id": "dccced83-86dd-42d6-a38d-9af7d6393e3f",
   "metadata": {},
   "source": [
    "* **np.arange(a,b,i)** a ile b-1 arasında i katsayısı ile artan bir vektör oluşturur "
   ]
  },
  {
   "cell_type": "code",
   "execution_count": 44,
   "id": "a83c9a76-fe3c-47bd-aec1-3719579bd7c2",
   "metadata": {},
   "outputs": [
    {
     "data": {
      "text/plain": [
       "array([0.        , 0.22222222, 0.44444444, 0.66666667, 0.88888889,\n",
       "       1.11111111, 1.33333333, 1.55555556, 1.77777778, 2.        ])"
      ]
     },
     "execution_count": 44,
     "metadata": {},
     "output_type": "execute_result"
    }
   ],
   "source": [
    "j=np.linspace(0,2,10)\n",
    "j"
   ]
  },
  {
   "cell_type": "markdown",
   "id": "bdc1a5bf-64c9-47af-a9be-26f49f51eabe",
   "metadata": {},
   "source": [
    "* **np.linspace(a,b,k)** a ile b arasında k tane eşit aralıktan oluşan değer üretir"
   ]
  },
  {
   "cell_type": "code",
   "execution_count": 48,
   "id": "3c83a251-ef16-4d2d-b6ce-4b0e8a1dc446",
   "metadata": {},
   "outputs": [
    {
     "data": {
      "text/plain": [
       "array([[12.91269277,  8.33453349,  7.23403655,  9.68887392,  7.98999244]])"
      ]
     },
     "execution_count": 48,
     "metadata": {},
     "output_type": "execute_result"
    }
   ],
   "source": [
    "k=np.random.normal(10,2,(1,5))\n",
    "k"
   ]
  },
  {
   "cell_type": "markdown",
   "id": "d6a91c1b-e5db-49bd-8822-74211f6ebebe",
   "metadata": {},
   "source": [
    "* **np.random.normal(ortalama,standart sapma, (x,y))** ortalaması ve standart sapması belli olan normal dağılımdan gelen rastgele sayılar seçer"
   ]
  },
  {
   "cell_type": "code",
   "execution_count": 51,
   "id": "bfe2f2d1-0ab9-4393-b241-396881bd1098",
   "metadata": {},
   "outputs": [
    {
     "data": {
      "text/plain": [
       "array([[12, 13,  6,  9,  4],\n",
       "       [11, 19, 18,  3,  2]])"
      ]
     },
     "execution_count": 51,
     "metadata": {},
     "output_type": "execute_result"
    }
   ],
   "source": [
    "l=np.random.randint(1,20,(2,5))\n",
    "l"
   ]
  },
  {
   "cell_type": "markdown",
   "id": "71c9390d-5104-47e4-bff5-e0952ed80aed",
   "metadata": {},
   "source": [
    "* **np.random.randint(a,b,(x,y))** a ile b arasından rastgele integer seçer"
   ]
  },
  {
   "cell_type": "markdown",
   "id": "a8cf8b4e-23cc-425d-8646-f801cb8a7669",
   "metadata": {},
   "source": [
    "## Numpy özellikleri"
   ]
  },
  {
   "cell_type": "code",
   "execution_count": 53,
   "id": "d7a546ac-a874-43e0-9ecb-f322b07015ac",
   "metadata": {},
   "outputs": [
    {
     "data": {
      "text/plain": [
       "2"
      ]
     },
     "execution_count": 53,
     "metadata": {},
     "output_type": "execute_result"
    }
   ],
   "source": [
    "l.ndim"
   ]
  },
  {
   "cell_type": "markdown",
   "id": "eecb7236-3aca-4e62-bceb-8ff34545b75a",
   "metadata": {},
   "source": [
    "* **x.ndim** arrayin boyutunu verir"
   ]
  },
  {
   "cell_type": "code",
   "execution_count": 55,
   "id": "dfe1b804-ad54-4477-9161-2475896b9c68",
   "metadata": {},
   "outputs": [
    {
     "data": {
      "text/plain": [
       "(2, 5)"
      ]
     },
     "execution_count": 55,
     "metadata": {},
     "output_type": "execute_result"
    }
   ],
   "source": [
    "l.shape"
   ]
  },
  {
   "cell_type": "markdown",
   "id": "fdd45b50-dac8-404d-9eb6-43e7821aff70",
   "metadata": {},
   "source": [
    "* **x.shape** array'in içindeki eleman sayısını verir "
   ]
  },
  {
   "cell_type": "code",
   "execution_count": 59,
   "id": "163ea0c2-4061-4511-80f3-7fa6bf90fce5",
   "metadata": {},
   "outputs": [
    {
     "data": {
      "text/plain": [
       "10"
      ]
     },
     "execution_count": 59,
     "metadata": {},
     "output_type": "execute_result"
    }
   ],
   "source": [
    "l.size"
   ]
  },
  {
   "cell_type": "markdown",
   "id": "75bfcb8b-3675-44ca-8ba0-3cee428d2701",
   "metadata": {},
   "source": [
    "* **x.size** arrayin içerisindeki toplam elemanı sayısını verir "
   ]
  },
  {
   "cell_type": "code",
   "execution_count": 58,
   "id": "c0200d38-0697-4593-b046-ce1ff0c5ea4a",
   "metadata": {},
   "outputs": [
    {
     "data": {
      "text/plain": [
       "dtype('int32')"
      ]
     },
     "execution_count": 58,
     "metadata": {},
     "output_type": "execute_result"
    }
   ],
   "source": [
    "l.dtype"
   ]
  },
  {
   "cell_type": "markdown",
   "id": "b2cf8515-cf1e-4586-b12b-a6c06a7135ef",
   "metadata": {},
   "source": [
    "* **x.dtype** arrayin data tipini verir"
   ]
  },
  {
   "cell_type": "markdown",
   "id": "7a993ee2-09cf-46be-adf0-887c0da008cc",
   "metadata": {},
   "source": [
    "### Array Reshape"
   ]
  },
  {
   "cell_type": "code",
   "execution_count": 68,
   "id": "46196347-cbba-4bd4-b5f6-f117892ae61e",
   "metadata": {},
   "outputs": [
    {
     "data": {
      "text/plain": [
       "array([1, 2, 3, 4, 5, 6, 7, 8, 9])"
      ]
     },
     "execution_count": 68,
     "metadata": {},
     "output_type": "execute_result"
    }
   ],
   "source": [
    "a1=np.arange(1,10)\n",
    "a1"
   ]
  },
  {
   "cell_type": "code",
   "execution_count": 76,
   "id": "28a9f251-f2d1-43c2-a7ee-059cf524c934",
   "metadata": {},
   "outputs": [
    {
     "data": {
      "text/plain": [
       "1"
      ]
     },
     "execution_count": 76,
     "metadata": {},
     "output_type": "execute_result"
    }
   ],
   "source": [
    "a1.ndim"
   ]
  },
  {
   "cell_type": "code",
   "execution_count": 69,
   "id": "11be9aa5-2db9-4879-a70a-e678f547a294",
   "metadata": {},
   "outputs": [
    {
     "data": {
      "text/plain": [
       "array([[1, 2, 3],\n",
       "       [4, 5, 6],\n",
       "       [7, 8, 9]])"
      ]
     },
     "execution_count": 69,
     "metadata": {},
     "output_type": "execute_result"
    }
   ],
   "source": [
    "a1.reshape((3,3))"
   ]
  },
  {
   "cell_type": "code",
   "execution_count": 75,
   "id": "70be7155-55a2-4c03-a87a-1f2fe4182820",
   "metadata": {},
   "outputs": [
    {
     "data": {
      "text/plain": [
       "array([[1, 2, 3, 4, 5, 6, 7, 8, 9]])"
      ]
     },
     "execution_count": 75,
     "metadata": {},
     "output_type": "execute_result"
    }
   ],
   "source": [
    "a2=a1.reshape((1,9))\n",
    "a2"
   ]
  },
  {
   "cell_type": "code",
   "execution_count": 78,
   "id": "d84d7fcf-359f-4a3a-bc2f-9fd2b672b47e",
   "metadata": {},
   "outputs": [
    {
     "data": {
      "text/plain": [
       "2"
      ]
     },
     "execution_count": 78,
     "metadata": {},
     "output_type": "execute_result"
    }
   ],
   "source": [
    "a2.ndim"
   ]
  },
  {
   "cell_type": "markdown",
   "id": "a7925985-7552-4e9c-b980-79336f0977c3",
   "metadata": {},
   "source": [
    "* arrayin özelliklerini değiştirmeden boyutunu değiştirdik"
   ]
  },
  {
   "cell_type": "markdown",
   "id": "8700e3c8-055b-4d11-9030-c960e566e43a",
   "metadata": {},
   "source": [
    "### Array Concatenation ( Array birleştirme)"
   ]
  },
  {
   "cell_type": "code",
   "execution_count": 80,
   "id": "3743c6ae-0597-4a76-a24c-6cf02213f1ac",
   "metadata": {},
   "outputs": [],
   "source": [
    "x=np.array([1,2,3])\n",
    "y=np.array([4,5,6])"
   ]
  },
  {
   "cell_type": "code",
   "execution_count": 82,
   "id": "2cea9f1e-194f-4a8e-8a02-cf36a78f8768",
   "metadata": {},
   "outputs": [
    {
     "data": {
      "text/plain": [
       "array([1, 2, 3, 4, 5, 6])"
      ]
     },
     "execution_count": 82,
     "metadata": {},
     "output_type": "execute_result"
    }
   ],
   "source": [
    "np.concatenate([x,y])"
   ]
  },
  {
   "cell_type": "markdown",
   "id": "51b5b290-67e9-49ac-af96-6549c2553411",
   "metadata": {},
   "source": [
    " _*İki Boyutta birleştirme*_"
   ]
  },
  {
   "cell_type": "code",
   "execution_count": 88,
   "id": "80b63faf-b0d0-4094-85e7-fad61a1e2746",
   "metadata": {},
   "outputs": [
    {
     "data": {
      "text/plain": [
       "array([[1, 2, 3],\n",
       "       [4, 5, 6]])"
      ]
     },
     "execution_count": 88,
     "metadata": {},
     "output_type": "execute_result"
    }
   ],
   "source": [
    "z= np.array([[1,2,3],[4,5,6]])\n",
    "z"
   ]
  },
  {
   "cell_type": "code",
   "execution_count": 90,
   "id": "835f8363-ba79-4a83-96ed-4eadbfdbb87b",
   "metadata": {},
   "outputs": [
    {
     "data": {
      "text/plain": [
       "array([[ 7,  8,  9],\n",
       "       [10, 11, 12]])"
      ]
     },
     "execution_count": 90,
     "metadata": {},
     "output_type": "execute_result"
    }
   ],
   "source": [
    "v=np.array([[7,8,9],[10,11,12]])\n",
    "v"
   ]
  },
  {
   "cell_type": "code",
   "execution_count": 92,
   "id": "3344278d-0bbb-47ad-8297-35a32bfe6cdd",
   "metadata": {},
   "outputs": [
    {
     "data": {
      "text/plain": [
       "array([[ 1,  2,  3],\n",
       "       [ 4,  5,  6],\n",
       "       [ 7,  8,  9],\n",
       "       [10, 11, 12]])"
      ]
     },
     "execution_count": 92,
     "metadata": {},
     "output_type": "execute_result"
    }
   ],
   "source": [
    "np.concatenate([z,v])"
   ]
  },
  {
   "cell_type": "markdown",
   "id": "466b4d2b-5ce0-4241-a9d2-db309e064768",
   "metadata": {},
   "source": [
    "* satır bazında birleştirdik sutün bazında birleştirmek için aşağıdaki gibi axis metodunu kullanmamız gerekir axis=0 satır( default) , axis=1 sutün bazında "
   ]
  },
  {
   "cell_type": "code",
   "execution_count": 94,
   "id": "402c2b51-024c-4c14-8a1c-598183c67ed4",
   "metadata": {},
   "outputs": [
    {
     "data": {
      "text/plain": [
       "array([[ 1,  2,  3,  7,  8,  9],\n",
       "       [ 4,  5,  6, 10, 11, 12]])"
      ]
     },
     "execution_count": 94,
     "metadata": {},
     "output_type": "execute_result"
    }
   ],
   "source": [
    "np.concatenate([z,v], axis=1)"
   ]
  },
  {
   "cell_type": "markdown",
   "id": "8f17ba50-55b1-405f-bca1-55a1175fd2ed",
   "metadata": {},
   "source": [
    "### Array Splitting ( Array ayırma)\n"
   ]
  },
  {
   "cell_type": "code",
   "execution_count": 102,
   "id": "efc42f08-359a-4d30-91e2-a65d811e2a5d",
   "metadata": {},
   "outputs": [
    {
     "data": {
      "text/plain": [
       "array([ 1,  2,  3, 99, 99,  3,  2,  1])"
      ]
     },
     "execution_count": 102,
     "metadata": {},
     "output_type": "execute_result"
    }
   ],
   "source": [
    "xyz=np.array([1,2,3,99,99,3,2,1])\n",
    "xyz"
   ]
  },
  {
   "cell_type": "code",
   "execution_count": 108,
   "id": "34acfcef-124a-4bfe-8f69-5b2d90f80953",
   "metadata": {},
   "outputs": [
    {
     "data": {
      "text/plain": [
       "array([1, 2, 3])"
      ]
     },
     "execution_count": 108,
     "metadata": {},
     "output_type": "execute_result"
    }
   ],
   "source": [
    "x1,y1,z1=np.split(xyz,[3,5])\n",
    "x1"
   ]
  },
  {
   "cell_type": "code",
   "execution_count": 110,
   "id": "0147ac2f-52d9-400c-a73e-f775f04f4582",
   "metadata": {},
   "outputs": [
    {
     "data": {
      "text/plain": [
       "array([99, 99])"
      ]
     },
     "execution_count": 110,
     "metadata": {},
     "output_type": "execute_result"
    }
   ],
   "source": [
    "y1"
   ]
  },
  {
   "cell_type": "code",
   "execution_count": 112,
   "id": "39192677-ea77-4d18-a754-a8557b818035",
   "metadata": {},
   "outputs": [
    {
     "data": {
      "text/plain": [
       "array([3, 2, 1])"
      ]
     },
     "execution_count": 112,
     "metadata": {},
     "output_type": "execute_result"
    }
   ],
   "source": [
    "z1"
   ]
  },
  {
   "cell_type": "markdown",
   "id": "1eddfdc9-9281-4551-a48e-446879db4905",
   "metadata": {},
   "source": [
    "* a,b,c= yazımı split ile ayırdığımız arrayleri atamamıza yarar"
   ]
  },
  {
   "cell_type": "markdown",
   "id": "49225397-8dce-42d8-af4d-bcf1fc2c2f2d",
   "metadata": {},
   "source": [
    "*_iki boyutta ayırma_*"
   ]
  },
  {
   "cell_type": "code",
   "execution_count": 121,
   "id": "1b1e3ef2-2f92-474b-938e-170d29fb316a",
   "metadata": {},
   "outputs": [
    {
     "data": {
      "text/plain": [
       "array([[ 1,  2,  3,  4],\n",
       "       [ 5,  6,  7,  8],\n",
       "       [ 9, 10, 11, 12],\n",
       "       [13, 14, 15, 16]])"
      ]
     },
     "execution_count": 121,
     "metadata": {},
     "output_type": "execute_result"
    }
   ],
   "source": [
    "m=np.arange(1,17).reshape(4,4)\n",
    "m"
   ]
  },
  {
   "cell_type": "code",
   "execution_count": 122,
   "id": "062b26af-2b44-40b3-8802-03f8fc42778e",
   "metadata": {},
   "outputs": [
    {
     "data": {
      "text/plain": [
       "array([[1, 2, 3, 4],\n",
       "       [5, 6, 7, 8]])"
      ]
     },
     "execution_count": 122,
     "metadata": {},
     "output_type": "execute_result"
    }
   ],
   "source": [
    "ust,alt=np.vsplit(m,[2])\n",
    "ust"
   ]
  },
  {
   "cell_type": "code",
   "execution_count": 124,
   "id": "c16b9dca-c04f-411d-a6b5-e6819cb73d5e",
   "metadata": {},
   "outputs": [
    {
     "data": {
      "text/plain": [
       "array([[ 9, 10, 11, 12],\n",
       "       [13, 14, 15, 16]])"
      ]
     },
     "execution_count": 124,
     "metadata": {},
     "output_type": "execute_result"
    }
   ],
   "source": [
    "alt"
   ]
  },
  {
   "cell_type": "markdown",
   "id": "b7e75af7-4e13-4fae-b0d8-d2f06dc2ea60",
   "metadata": {},
   "source": [
    "* **vsplit** iki boyutlu matrisleri yatay olarak keserek ayırır"
   ]
  },
  {
   "cell_type": "code",
   "execution_count": 126,
   "id": "378bae45-7e7d-46d9-95fa-d1615041a50b",
   "metadata": {},
   "outputs": [
    {
     "data": {
      "text/plain": [
       "[array([[ 1,  2],\n",
       "        [ 5,  6],\n",
       "        [ 9, 10],\n",
       "        [13, 14]]),\n",
       " array([[ 3,  4],\n",
       "        [ 7,  8],\n",
       "        [11, 12],\n",
       "        [15, 16]])]"
      ]
     },
     "execution_count": 126,
     "metadata": {},
     "output_type": "execute_result"
    }
   ],
   "source": [
    "np.hsplit(m,[2])"
   ]
  },
  {
   "cell_type": "markdown",
   "id": "5549219e-197a-404c-b89f-4eee880aad40",
   "metadata": {},
   "source": [
    "* **hsplit** iki boyutlu matrisleri dikey olarak keserek ayırır"
   ]
  }
 ],
 "metadata": {
  "kernelspec": {
   "display_name": "Python 3",
   "language": "python",
   "name": "python3"
  },
  "language_info": {
   "codemirror_mode": {
    "name": "ipython",
    "version": 3
   },
   "file_extension": ".py",
   "mimetype": "text/x-python",
   "name": "python",
   "nbconvert_exporter": "python",
   "pygments_lexer": "ipython3",
   "version": "3.8.8"
  }
 },
 "nbformat": 4,
 "nbformat_minor": 5
}
